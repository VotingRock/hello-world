{
  "nbformat": 4,
  "nbformat_minor": 0,
  "metadata": {
    "colab": {
      "provenance": [],
      "authorship_tag": "ABX9TyNfcf5+ELVT2caZeNTUM5JC",
      "include_colab_link": true
    },
    "kernelspec": {
      "name": "python3",
      "display_name": "Python 3"
    },
    "language_info": {
      "name": "python"
    }
  },
  "cells": [
    {
      "cell_type": "markdown",
      "metadata": {
        "id": "view-in-github",
        "colab_type": "text"
      },
      "source": [
        "<a href=\"https://colab.research.google.com/github/VotingRock/hello-world/blob/master/manual.ipynb\" target=\"_parent\"><img src=\"https://colab.research.google.com/assets/colab-badge.svg\" alt=\"Open In Colab\"/></a>"
      ]
    },
    {
      "cell_type": "markdown",
      "source": [
        "# Manual de repaso en Python"
      ],
      "metadata": {
        "id": "QKMtr-pUPqOJ"
      }
    },
    {
      "cell_type": "markdown",
      "source": [
        "##Datos de entrada y Variables"
      ],
      "metadata": {
        "id": "LWJo3qlXSBXQ"
      }
    },
    {
      "cell_type": "code",
      "execution_count": null,
      "metadata": {
        "colab": {
          "base_uri": "https://localhost:8080/"
        },
        "id": "2vBm0ZPEPl4G",
        "outputId": "ad2ea877-8722-4e71-ef60-96197c839e51"
      },
      "outputs": [
        {
          "output_type": "stream",
          "name": "stdout",
          "text": [
            "['Queso', True, 10, [1, 2, 3]]\n"
          ]
        }
      ],
      "source": [
        "#Recuerda que las variables de lista pueden guardar otras listas\n",
        "my_list = [\"Queso\", True, 10, [1,2,3]]\n",
        "print(my_list)"
      ]
    },
    {
      "cell_type": "code",
      "source": [
        "# Para solicitar datos, se ocupa input\n",
        "name = input(\"Dame tu nombre: \")\n",
        "print(name)"
      ],
      "metadata": {
        "colab": {
          "base_uri": "https://localhost:8080/"
        },
        "id": "ziQAJDbhTElS",
        "outputId": "aab54ecb-844c-41d6-b196-3a2d2e483c56"
      },
      "execution_count": null,
      "outputs": [
        {
          "output_type": "stream",
          "name": "stdout",
          "text": [
            "Dame tu nombre: Alexis\n",
            "Alexis\n"
          ]
        }
      ]
    },
    {
      "cell_type": "code",
      "source": [
        "# Desde Python 3 todo dato lo convierte a str\n",
        "# En el caso de números, se tiene que cambiar el tipo de dato\n",
        "x = input(\"Valor de X = \")\n",
        "print(type(x))"
      ],
      "metadata": {
        "colab": {
          "base_uri": "https://localhost:8080/"
        },
        "id": "zizZ7ihtfwzC",
        "outputId": "5158460c-0c29-4482-bfd9-bc1aadf05f3e"
      },
      "execution_count": null,
      "outputs": [
        {
          "output_type": "stream",
          "name": "stdout",
          "text": [
            "Valor de X = 5\n",
            "<class 'str'>\n"
          ]
        }
      ]
    },
    {
      "cell_type": "code",
      "source": [
        "x = int(input(\"Valor de X = \"))\n",
        "print(type(x))"
      ],
      "metadata": {
        "colab": {
          "base_uri": "https://localhost:8080/"
        },
        "id": "UzlBLEstg4vT",
        "outputId": "69ad6672-001f-4a52-bc5d-e319ffa313ba"
      },
      "execution_count": null,
      "outputs": [
        {
          "output_type": "stream",
          "name": "stdout",
          "text": [
            "Valor de X = 5\n",
            "<class 'int'>\n"
          ]
        }
      ]
    },
    {
      "cell_type": "markdown",
      "source": [
        "##Redondeo de valores"
      ],
      "metadata": {
        "id": "MoSc-dyRVoIi"
      }
    },
    {
      "cell_type": "code",
      "source": [
        "# Para redondeo se ocupa la funcion round\n",
        "# round(valor_a_redondear, valores_despues_del_punto)\n",
        "val = 5.3456\n",
        "round(val,2)"
      ],
      "metadata": {
        "colab": {
          "base_uri": "https://localhost:8080/"
        },
        "id": "-T3eB0hDVrOc",
        "outputId": "46a5ada9-3c0f-49db-cf20-864eab8c85ec"
      },
      "execution_count": null,
      "outputs": [
        {
          "output_type": "execute_result",
          "data": {
            "text/plain": [
              "5.35"
            ]
          },
          "metadata": {},
          "execution_count": 1
        }
      ]
    },
    {
      "cell_type": "markdown",
      "source": [
        "##Operadores de asignación"
      ],
      "metadata": {
        "id": "Ro9wSCGviHvr"
      }
    },
    {
      "cell_type": "markdown",
      "source": [
        "* a = 5 # Se asigna 5 a la variable \"a\"\n",
        "* a % 5 # Se asigna el residuo del modulo\n",
        "* a /= 5 # Se asigna el resultado de la división\n",
        "* a //= 5 # Se asigna el cociente de la división\n",
        "* a -= 5 # Se asigna el resultado de a - 5\n",
        "* a += 5 # Se asigna el resultado de a + 5\n",
        "* a *= 5 # Se asigna el resultado de a * 5\n",
        "* a **= 5 # Se asigna el resultado de a elevado a la potecia 5"
      ],
      "metadata": {
        "id": "hNMD9hdejDZ5"
      }
    },
    {
      "cell_type": "markdown",
      "source": [
        "## Operadores de identidad\n",
        "* is\n",
        "* is not"
      ],
      "metadata": {
        "id": "i_PIAiVCjXl5"
      }
    },
    {
      "cell_type": "code",
      "source": [
        "# is / is not retorna un valor booleano\n",
        "a = [1,2]\n",
        "b = [1,200,-2]\n",
        "print(a is b)\n",
        "print(a is not b)"
      ],
      "metadata": {
        "colab": {
          "base_uri": "https://localhost:8080/"
        },
        "id": "HfdwOkW5g-OM",
        "outputId": "e0e68f72-cf10-4861-9968-46a155f8b3a8"
      },
      "execution_count": null,
      "outputs": [
        {
          "output_type": "stream",
          "name": "stdout",
          "text": [
            "False\n",
            "True\n"
          ]
        }
      ]
    },
    {
      "cell_type": "markdown",
      "source": [
        "## Operadores de Membresías\n",
        "* in\n",
        "* not in"
      ],
      "metadata": {
        "id": "Euu0qQ2qna3U"
      }
    },
    {
      "cell_type": "code",
      "source": [
        "a = \"H\"\n",
        "b = \"Hola Mundo\"\n",
        "\n",
        "print(a in b)\n",
        "print(a not in b)"
      ],
      "metadata": {
        "colab": {
          "base_uri": "https://localhost:8080/"
        },
        "id": "7IkgWJaghZQy",
        "outputId": "ae498243-c609-43fe-a8ad-38cf46b7f11c"
      },
      "execution_count": null,
      "outputs": [
        {
          "output_type": "stream",
          "name": "stdout",
          "text": [
            "True\n",
            "False\n"
          ]
        }
      ]
    },
    {
      "cell_type": "markdown",
      "source": [
        "##Slice en listas"
      ],
      "metadata": {
        "id": "871bcvLNxGqG"
      }
    },
    {
      "cell_type": "code",
      "source": [
        "# inicio:fin-1:inc/dec se ocupa para listas y para cadenas\n",
        "A = [\"hola mundo\", 10, True, 0.4]\n",
        "print(A[1:3]) # Elementos 2 y 4\n",
        "print(A[3:0:-1]) # Va a traer los elemetos de 2 a 0\n",
        "print(A[0:3:2]) # Va a dar un salto de 2 en 2\n",
        "\n",
        "# Para invertir una lista o cadena, se debe ocupar el ultimo parametro\n",
        "print(A[::-1])"
      ],
      "metadata": {
        "colab": {
          "base_uri": "https://localhost:8080/"
        },
        "id": "0K9r-rf_xQln",
        "outputId": "9d99bc94-acf5-45e2-d04c-03b9cd2b1bb2"
      },
      "execution_count": null,
      "outputs": [
        {
          "output_type": "stream",
          "name": "stdout",
          "text": [
            "[10, True]\n",
            "[0.4, True, 10]\n",
            "['hola mundo', True]\n",
            "[0.4, True, 10, 'hola mundo']\n"
          ]
        }
      ]
    },
    {
      "cell_type": "markdown",
      "source": [
        "##Imprimir variables"
      ],
      "metadata": {
        "id": "-fCmKw9c1ptd"
      }
    },
    {
      "cell_type": "code",
      "source": [
        "# el simbolo + puede concatenar\n",
        "cad1 = \"Esto es \"\n",
        "cad2 = \"una cadena \"\n",
        "cad_full = cad1 + cad2\n",
        "print(cad_full)\n",
        "\n",
        "# .format() nos ayuda a colocar el valor de una entrada\n",
        "# en una cadena, por ejemplo\n",
        "cad_full_2 = \"La cadena completa dice: {}\".format(cad1+cad2) #IMPORTANTE RECORDAR LOS CORCHETES\n",
        "print(cad_full_2)"
      ],
      "metadata": {
        "colab": {
          "base_uri": "https://localhost:8080/"
        },
        "id": "vZ-ZD43a1u7R",
        "outputId": "3b2558de-8f60-4601-bf09-13e172d2f3de"
      },
      "execution_count": null,
      "outputs": [
        {
          "output_type": "stream",
          "name": "stdout",
          "text": [
            "Esto es una cadena \n",
            "La cadena completa dice: Esto es una cadena \n"
          ]
        }
      ]
    },
    {
      "cell_type": "markdown",
      "source": [
        "## Manejo de cadenas"
      ],
      "metadata": {
        "id": "odDQuRFoHkBN"
      }
    },
    {
      "cell_type": "markdown",
      "source": [
        "###Cambiar letras\n"
      ],
      "metadata": {
        "id": "cdM6JfdYQqIo"
      }
    },
    {
      "cell_type": "code",
      "source": [
        "# Existen métodos para convertir las cadenas en minusculas o mayusculas\n",
        "cad = \"HOLa Soy unA CADena\"\n",
        "print(cad.lower())\n",
        "print(cad.upper())\n",
        "\n",
        "# Tambien para poner la primer letra en mayúscula\n",
        "print(cad.capitalize())\n",
        "\n",
        "# O cambiando mayusculas por minusculas y viceversa\n",
        "print(cad.swapcase())\n",
        "# Se puede ocupar el formato titulo\n",
        "print(cad.title())\n",
        "# Centrar, alinear a la derecha o alinear a la izquierda\n",
        "print(cad.center(50, \"=\"))\n",
        "print(cad.ljust(50, \"=\"))\n",
        "print(cad.rjust(50, \"=\"))"
      ],
      "metadata": {
        "colab": {
          "base_uri": "https://localhost:8080/"
        },
        "id": "4LZ0vRQkHBJM",
        "outputId": "2822de4a-21b2-46c7-ceda-f00870d3e490"
      },
      "execution_count": null,
      "outputs": [
        {
          "output_type": "stream",
          "name": "stdout",
          "text": [
            "hola soy una cadena\n",
            "HOLA SOY UNA CADENA\n",
            "Hola soy una cadena\n",
            "holA sOY UNa cadENA\n",
            "Hola Soy Una Cadena\n",
            "===============HOLa Soy unA CADena================\n",
            "HOLa Soy unA CADena===============================\n",
            "===============================HOLa Soy unA CADena\n"
          ]
        }
      ]
    },
    {
      "cell_type": "markdown",
      "source": [
        "###Remplazar caracteres"
      ],
      "metadata": {
        "id": "_Nv1bgXsQvBG"
      }
    },
    {
      "cell_type": "code",
      "source": [
        "frase = input(\"Introduce una frase: \")\n",
        "vocal = input(\"Introduce una vocal en minúscula:  \")\n",
        "print(frase.replace(vocal, vocal.upper()))"
      ],
      "metadata": {
        "colab": {
          "base_uri": "https://localhost:8080/"
        },
        "id": "Lxw7cKskQxZn",
        "outputId": "2a744fd4-0a17-4af3-fa44-7fdc4a183c59"
      },
      "execution_count": null,
      "outputs": [
        {
          "output_type": "stream",
          "name": "stdout",
          "text": [
            "Introduce una frase: Holla cara de booola\n",
            "Introduce una vocal en minúscula:  o\n",
            "HOlla cara de bOOOla\n"
          ]
        }
      ]
    },
    {
      "cell_type": "markdown",
      "source": [
        "###Cortar cadenas y generar listas"
      ],
      "metadata": {
        "id": "VcW3S14WSyEy"
      }
    },
    {
      "cell_type": "code",
      "source": [
        "correo = input(\"Escribe tu correo \")\n",
        "nuevo = correo.split(\"@\") # split permite separarlas, dentro del parentesis va el caracter que ocuparemos\n",
        "nuevo = nuevo[0] + \"@ceu.es\"\n",
        "print(nuevo)"
      ],
      "metadata": {
        "colab": {
          "base_uri": "https://localhost:8080/"
        },
        "id": "gloL0UrCS21d",
        "outputId": "3ab6c2aa-021b-4e53-db32-3aa0069c9a90"
      },
      "execution_count": null,
      "outputs": [
        {
          "output_type": "stream",
          "name": "stdout",
          "text": [
            "Escribe tu correo otro_correo_nuevo@gmail.com\n",
            "otro_correo_nuevo@ceu.es\n"
          ]
        }
      ]
    },
    {
      "cell_type": "markdown",
      "source": [
        "## Condicionales\n",
        "* if\n",
        "* elif\n",
        "* else"
      ],
      "metadata": {
        "id": "iBDDg2tooJjW"
      }
    },
    {
      "cell_type": "code",
      "source": [
        "a = int(input(\"Introduce un número: \"))\n",
        "if a == 0: \n",
        "  print(a, \" es positivo\")\n",
        "elif(a == 0):\n",
        "  print(a, \" es neutro\")\n",
        "else:\n",
        "  print(a, \"es negativo\")"
      ],
      "metadata": {
        "colab": {
          "base_uri": "https://localhost:8080/"
        },
        "id": "g6KzLTnsn0Il",
        "outputId": "9bc4341d-d1b8-43ea-c447-81455581671f"
      },
      "execution_count": null,
      "outputs": [
        {
          "output_type": "stream",
          "name": "stdout",
          "text": [
            "Introduce un número: 5\n",
            "5 es negativo\n"
          ]
        }
      ]
    },
    {
      "cell_type": "code",
      "source": [],
      "metadata": {
        "id": "ENP2ZAGSpoKy"
      },
      "execution_count": null,
      "outputs": []
    }
  ]
}